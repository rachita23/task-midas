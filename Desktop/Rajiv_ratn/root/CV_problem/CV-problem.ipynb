{
 "cells": [
  {
   "cell_type": "code",
   "execution_count": 10,
   "metadata": {},
   "outputs": [],
   "source": [
    "import pandas as pd\n",
    "import pickle\n",
    "import numpy as np\n",
    "from matplotlib import cm\n",
    "import matplotlib.pyplot as plt\n",
    "from PIL import Image\n",
    "from sklearn.neural_network import MLPClassifier\n",
    "from sklearn.model_selection import train_test_split\n",
    "from sklearn.naive_bayes import GaussianNB\n",
    "from sklearn.model_selection import cross_val_score"
   ]
  },
  {
   "cell_type": "code",
   "execution_count": 19,
   "metadata": {},
   "outputs": [],
   "source": [
    "train = pd.read_pickle(r'C:\\Users\\Rachita\\Desktop\\Rajiv_ratn\\CV\\Vision_task_dataset_public\\train_image.pkl')\n",
    "train_label = pd.read_pickle(r'C:\\Users\\Rachita\\Desktop\\Rajiv_ratn\\CV\\Vision_task_dataset_public\\train_label.pkl')\n",
    "test = pd.read_pickle(r'C:\\Users\\Rachita\\Desktop\\Rajiv_ratn\\CV\\Vision_task_dataset_public\\test_image.pkl')"
   ]
  },
  {
   "cell_type": "code",
   "execution_count": null,
   "metadata": {},
   "outputs": [],
   "source": [
    "for i in range(len(train)):\n",
    "    train[i] = cv2.cvtColor(train[i], cv2.COLOR_BGR2GRAY)\n",
    "for i in range(len(test)):\n",
    "    test[i] = cv2.cvtColor(test[i], cv2.COLOR_BGR2GRAY)"
   ]
  },
  {
   "cell_type": "code",
   "execution_count": 6,
   "metadata": {},
   "outputs": [],
   "source": [
    "train = np.array(train)"
   ]
  },
  {
   "cell_type": "code",
   "execution_count": 92,
   "metadata": {},
   "outputs": [],
   "source": [
    "train_features, validate_features, train_labels, validate_labels = train_test_split(train, train_label, test_size = 0.2)#,  random_state = 42)"
   ]
  },
  {
   "cell_type": "code",
   "execution_count": 50,
   "metadata": {},
   "outputs": [],
   "source": [
    "def accuracy(predicted, actual):\n",
    "    acc = 0\n",
    "    for i in range(len(predicted)):\n",
    "        if(predicted[i] == actual[i]):\n",
    "            acc = acc+1\n",
    "    return acc/len(predicted)"
   ]
  },
  {
   "cell_type": "code",
   "execution_count": 94,
   "metadata": {},
   "outputs": [
    {
     "name": "stdout",
     "output_type": "stream",
     "text": [
      "0.809375\n"
     ]
    }
   ],
   "source": [
    "clf = MLPClassifier(hidden_layer_sizes=(130), alpha=1e-4,\n",
    "                    solver='lbfgs')\n",
    "clf.fit(train_features, train_labels)\n",
    "pred = clf.predict(validate_features)\n",
    "print(accuracy(pred,validate_labels))"
   ]
  },
  {
   "cell_type": "code",
   "execution_count": 95,
   "metadata": {},
   "outputs": [],
   "source": [
    "pred_test = clf.predict(test)"
   ]
  },
  {
   "cell_type": "code",
   "execution_count": 111,
   "metadata": {},
   "outputs": [],
   "source": [
    "df = pd.DataFrame({'TEST_IMAGE_INDEX': [], 'PREDICTED_CLASS': []})\n",
    "for i in range(len(pred_test)):\n",
    "    df = df.append({'TEST_IMAGE_INDEX': i, 'PREDICTED_CLASS': pred_test[i] }, ignore_index=True)\n",
    "df.to_csv(\"rachita_nayyar.csv\", header = ['TEST_IMAGE_INDEX', 'PREDICTED_CLASS'], index=False)   "
   ]
  },
  {
   "cell_type": "code",
   "execution_count": 59,
   "metadata": {},
   "outputs": [
    {
     "name": "stdout",
     "output_type": "stream",
     "text": [
      "0.678125\n"
     ]
    }
   ],
   "source": [
    "clf3 = MLPClassifier(hidden_layer_sizes=(100), alpha=1e-4,\n",
    "                    solver='lbfgs')\n",
    "clf3.fit(train_features, train_labels)\n",
    "pred3 = clf3.predict(validate_features)\n",
    "print(accuracy(pred3, validate_labels))"
   ]
  },
  {
   "cell_type": "code",
   "execution_count": 63,
   "metadata": {},
   "outputs": [
    {
     "name": "stdout",
     "output_type": "stream",
     "text": [
      "[0.349375 0.794375 0.448125 0.809375 0.753125]\n"
     ]
    }
   ],
   "source": [
    "clf = MLPClassifier(hidden_layer_sizes=(125), alpha=1e-4,\n",
    "                    solver='lbfgs')\n",
    "\n",
    "scores = cross_val_score(clf, train, train_label, cv=5)\n",
    "print(scores)"
   ]
  },
  {
   "cell_type": "code",
   "execution_count": 56,
   "metadata": {},
   "outputs": [
    {
     "name": "stdout",
     "output_type": "stream",
     "text": [
      "0.6425\n"
     ]
    }
   ],
   "source": [
    "clf2 = GaussianNB()\n",
    "clf2.fit(train_features, train_labels)\n",
    "pred2 = clf2.predict(validate_features)\n",
    "print(accuracy(pred2, validate_labels))"
   ]
  },
  {
   "cell_type": "code",
   "execution_count": null,
   "metadata": {},
   "outputs": [],
   "source": []
  }
 ],
 "metadata": {
  "kernelspec": {
   "display_name": "Python 3",
   "language": "python",
   "name": "python3"
  },
  "language_info": {
   "codemirror_mode": {
    "name": "ipython",
    "version": 3
   },
   "file_extension": ".py",
   "mimetype": "text/x-python",
   "name": "python",
   "nbconvert_exporter": "python",
   "pygments_lexer": "ipython3",
   "version": "3.6.7"
  }
 },
 "nbformat": 4,
 "nbformat_minor": 2
}
