{
 "cells": [
  {
   "cell_type": "markdown",
   "metadata": {},
   "source": [
    "Libraries"
   ]
  },
  {
   "cell_type": "code",
   "execution_count": 21,
   "metadata": {},
   "outputs": [],
   "source": [
    "import pandas as pd\n",
    "import pickle\n",
    "import numpy as np\n",
    "from matplotlib import cm\n",
    "import matplotlib.pyplot as plt\n",
    "from PIL import Image\n",
    "from sklearn.neural_network import MLPClassifier\n",
    "from sklearn.model_selection import train_test_split\n",
    "from sklearn.naive_bayes import GaussianNB\n",
    "from sklearn.model_selection import cross_val_score\n",
    "from sklearn.decomposition import PCA\n",
    "from PIL import Image"
   ]
  },
  {
   "cell_type": "markdown",
   "metadata": {},
   "source": [
    "Reading files"
   ]
  },
  {
   "cell_type": "code",
   "execution_count": 2,
   "metadata": {},
   "outputs": [],
   "source": [
    "train = pd.read_pickle(r'C:\\Users\\Rachita\\Desktop\\Rajiv_ratn\\CV\\Vision_task_dataset_public\\train_image.pkl')\n",
    "train_label = pd.read_pickle(r'C:\\Users\\Rachita\\Desktop\\Rajiv_ratn\\CV\\Vision_task_dataset_public\\train_label.pkl')\n",
    "test = pd.read_pickle(r'C:\\Users\\Rachita\\Desktop\\Rajiv_ratn\\CV\\Vision_task_dataset_public\\test_image.pkl')"
   ]
  },
  {
   "cell_type": "code",
   "execution_count": 3,
   "metadata": {},
   "outputs": [],
   "source": [
    "train = np.array(train)"
   ]
  },
  {
   "cell_type": "markdown",
   "metadata": {},
   "source": [
    "I split the data into 20-80 partition randomly so that i could check the accuracy of my model"
   ]
  },
  {
   "cell_type": "code",
   "execution_count": 4,
   "metadata": {},
   "outputs": [],
   "source": [
    "train_features, validate_features, train_labels, validate_labels = train_test_split(train, train_label, test_size = 0.2)#,  random_state = 42)"
   ]
  },
  {
   "cell_type": "markdown",
   "metadata": {},
   "source": [
    "Accuracy score calculated"
   ]
  },
  {
   "cell_type": "code",
   "execution_count": 5,
   "metadata": {},
   "outputs": [],
   "source": [
    "def accuracy(predicted, actual):\n",
    "    acc = 0\n",
    "    for i in range(len(predicted)):\n",
    "        if(predicted[i] == actual[i]):\n",
    "            acc = acc+1\n",
    "    return acc/len(predicted)"
   ]
  },
  {
   "cell_type": "markdown",
   "metadata": {},
   "source": [
    "Neural-Networks with number of hidden layers as 130"
   ]
  },
  {
   "cell_type": "markdown",
   "metadata": {},
   "source": [
    "This model was chosen as the final model results of which was reported in the file as in showed the highest accuracy ~ 80%"
   ]
  },
  {
   "cell_type": "code",
   "execution_count": 94,
   "metadata": {},
   "outputs": [
    {
     "name": "stdout",
     "output_type": "stream",
     "text": [
      "0.809375\n"
     ]
    }
   ],
   "source": [
    "clf = MLPClassifier(hidden_layer_sizes=(130), alpha=1e-4,\n",
    "                    solver='lbfgs')\n",
    "clf.fit(train_features, train_labels)\n",
    "pred = clf.predict(validate_features)\n",
    "print(accuracy(pred,validate_labels))"
   ]
  },
  {
   "cell_type": "code",
   "execution_count": 95,
   "metadata": {},
   "outputs": [],
   "source": [
    "pred_test = clf.predict(test)"
   ]
  },
  {
   "cell_type": "markdown",
   "metadata": {},
   "source": [
    "Storing the results in a CSV file"
   ]
  },
  {
   "cell_type": "code",
   "execution_count": 111,
   "metadata": {},
   "outputs": [],
   "source": [
    "df = pd.DataFrame({'TEST_IMAGE_INDEX': [], 'PREDICTED_CLASS': []})\n",
    "for i in range(len(pred_test)):\n",
    "    df = df.append({'TEST_IMAGE_INDEX': i, 'PREDICTED_CLASS': pred_test[i] }, ignore_index=True)\n",
    "df.to_csv(\"rachita_nayyar.csv\", header = ['TEST_IMAGE_INDEX', 'PREDICTED_CLASS'], index=False)   "
   ]
  },
  {
   "cell_type": "markdown",
   "metadata": {},
   "source": [
    "I also applied PCA to compare the results, how the model behaves "
   ]
  },
  {
   "cell_type": "markdown",
   "metadata": {},
   "source": [
    "Results of this were not very good"
   ]
  },
  {
   "cell_type": "code",
   "execution_count": 20,
   "metadata": {},
   "outputs": [
    {
     "data": {
      "text/plain": [
       "0.67625"
      ]
     },
     "execution_count": 20,
     "metadata": {},
     "output_type": "execute_result"
    }
   ],
   "source": [
    "pca = PCA(n_components = 40)\n",
    "principalComponents = pca.fit_transform(train_features)\n",
    "pca = PCA(n_components = 40)\n",
    "principalComponentsTest = pca.fit_transform(validate_features)\n",
    "features = np.asarray(train_features)\n",
    "clf_pca = MLPClassifier(hidden_layer_sizes=(20), alpha=1e-4,\n",
    "                    solver='lbfgs')\n",
    "clf_pca.fit(principalComponents,train_labels)\n",
    "y_pred = clf_pca.predict(principalComponentsTest)\n",
    "accuracy(validate_labels,y_pred)"
   ]
  },
  {
   "cell_type": "markdown",
   "metadata": {},
   "source": [
    "I also tried the accurcy score for different values of hidden layers and alpha values but the best was used"
   ]
  },
  {
   "cell_type": "code",
   "execution_count": 59,
   "metadata": {},
   "outputs": [
    {
     "name": "stdout",
     "output_type": "stream",
     "text": [
      "0.678125\n"
     ]
    }
   ],
   "source": [
    "clf3 = MLPClassifier(hidden_layer_sizes=(100), alpha=1e-4,\n",
    "                    solver='lbfgs')\n",
    "clf3.fit(train_features, train_labels)\n",
    "pred3 = clf3.predict(validate_features)\n",
    "print(accuracy(pred3, validate_labels))"
   ]
  },
  {
   "cell_type": "markdown",
   "metadata": {},
   "source": [
    "Other model such as Gaussian NB were also not efficient enough"
   ]
  },
  {
   "cell_type": "code",
   "execution_count": 56,
   "metadata": {},
   "outputs": [
    {
     "name": "stdout",
     "output_type": "stream",
     "text": [
      "0.6425\n"
     ]
    }
   ],
   "source": [
    "clf2 = GaussianNB()\n",
    "clf2.fit(train_features, train_labels)\n",
    "pred2 = clf2.predict(validate_features)\n",
    "print(accuracy(pred2, validate_labels))"
   ]
  },
  {
   "cell_type": "code",
   "execution_count": null,
   "metadata": {},
   "outputs": [],
   "source": []
  }
 ],
 "metadata": {
  "kernelspec": {
   "display_name": "Python 3",
   "language": "python",
   "name": "python3"
  },
  "language_info": {
   "codemirror_mode": {
    "name": "ipython",
    "version": 3
   },
   "file_extension": ".py",
   "mimetype": "text/x-python",
   "name": "python",
   "nbconvert_exporter": "python",
   "pygments_lexer": "ipython3",
   "version": "3.6.7"
  }
 },
 "nbformat": 4,
 "nbformat_minor": 2
}
